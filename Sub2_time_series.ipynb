{
  "nbformat": 4,
  "nbformat_minor": 0,
  "metadata": {
    "colab": {
      "name": "Sub2_time_series.ipynb",
      "provenance": [],
      "collapsed_sections": []
    },
    "kernelspec": {
      "name": "python3",
      "display_name": "Python 3"
    },
    "language_info": {
      "name": "python"
    },
    "accelerator": "GPU"
  },
  "cells": [
    {
      "cell_type": "markdown",
      "metadata": {
        "id": "c13_Qyn4Je0b"
      },
      "source": [
        "# Time Series Dataset Classification \n",
        "dataset: https://archive.ics.uci.edu/ml/datasets/Occupancy+Detection+"
      ]
    },
    {
      "cell_type": "code",
      "metadata": {
        "id": "8xViqVph6LrV"
      },
      "source": [
        "import numpy as np\n",
        "import pandas as pd\n",
        "from keras.layers import Dense, LSTM\n",
        "import matplotlib.pyplot as plt\n",
        "import tensorflow as tf"
      ],
      "execution_count": null,
      "outputs": []
    },
    {
      "cell_type": "code",
      "metadata": {
        "colab": {
          "base_uri": "https://localhost:8080/",
          "height": 414
        },
        "id": "aAy3JiwoOF7J",
        "outputId": "53c130b9-070a-454e-bda2-99cc553a0115"
      },
      "source": [
        "df = pd.read_csv('datatraining.txt')\n",
        "df"
      ],
      "execution_count": null,
      "outputs": [
        {
          "output_type": "execute_result",
          "data": {
            "text/html": [
              "<div>\n",
              "<style scoped>\n",
              "    .dataframe tbody tr th:only-of-type {\n",
              "        vertical-align: middle;\n",
              "    }\n",
              "\n",
              "    .dataframe tbody tr th {\n",
              "        vertical-align: top;\n",
              "    }\n",
              "\n",
              "    .dataframe thead th {\n",
              "        text-align: right;\n",
              "    }\n",
              "</style>\n",
              "<table border=\"1\" class=\"dataframe\">\n",
              "  <thead>\n",
              "    <tr style=\"text-align: right;\">\n",
              "      <th></th>\n",
              "      <th>date</th>\n",
              "      <th>Temperature</th>\n",
              "      <th>Humidity</th>\n",
              "      <th>Light</th>\n",
              "      <th>CO2</th>\n",
              "      <th>HumidityRatio</th>\n",
              "      <th>Occupancy</th>\n",
              "    </tr>\n",
              "  </thead>\n",
              "  <tbody>\n",
              "    <tr>\n",
              "      <th>1</th>\n",
              "      <td>2015-02-04 17:51:00</td>\n",
              "      <td>23.18</td>\n",
              "      <td>27.2720</td>\n",
              "      <td>426.0</td>\n",
              "      <td>721.250000</td>\n",
              "      <td>0.004793</td>\n",
              "      <td>1</td>\n",
              "    </tr>\n",
              "    <tr>\n",
              "      <th>2</th>\n",
              "      <td>2015-02-04 17:51:59</td>\n",
              "      <td>23.15</td>\n",
              "      <td>27.2675</td>\n",
              "      <td>429.5</td>\n",
              "      <td>714.000000</td>\n",
              "      <td>0.004783</td>\n",
              "      <td>1</td>\n",
              "    </tr>\n",
              "    <tr>\n",
              "      <th>3</th>\n",
              "      <td>2015-02-04 17:53:00</td>\n",
              "      <td>23.15</td>\n",
              "      <td>27.2450</td>\n",
              "      <td>426.0</td>\n",
              "      <td>713.500000</td>\n",
              "      <td>0.004779</td>\n",
              "      <td>1</td>\n",
              "    </tr>\n",
              "    <tr>\n",
              "      <th>4</th>\n",
              "      <td>2015-02-04 17:54:00</td>\n",
              "      <td>23.15</td>\n",
              "      <td>27.2000</td>\n",
              "      <td>426.0</td>\n",
              "      <td>708.250000</td>\n",
              "      <td>0.004772</td>\n",
              "      <td>1</td>\n",
              "    </tr>\n",
              "    <tr>\n",
              "      <th>5</th>\n",
              "      <td>2015-02-04 17:55:00</td>\n",
              "      <td>23.10</td>\n",
              "      <td>27.2000</td>\n",
              "      <td>426.0</td>\n",
              "      <td>704.500000</td>\n",
              "      <td>0.004757</td>\n",
              "      <td>1</td>\n",
              "    </tr>\n",
              "    <tr>\n",
              "      <th>...</th>\n",
              "      <td>...</td>\n",
              "      <td>...</td>\n",
              "      <td>...</td>\n",
              "      <td>...</td>\n",
              "      <td>...</td>\n",
              "      <td>...</td>\n",
              "      <td>...</td>\n",
              "    </tr>\n",
              "    <tr>\n",
              "      <th>8139</th>\n",
              "      <td>2015-02-10 09:29:00</td>\n",
              "      <td>21.05</td>\n",
              "      <td>36.0975</td>\n",
              "      <td>433.0</td>\n",
              "      <td>787.250000</td>\n",
              "      <td>0.005579</td>\n",
              "      <td>1</td>\n",
              "    </tr>\n",
              "    <tr>\n",
              "      <th>8140</th>\n",
              "      <td>2015-02-10 09:29:59</td>\n",
              "      <td>21.05</td>\n",
              "      <td>35.9950</td>\n",
              "      <td>433.0</td>\n",
              "      <td>789.500000</td>\n",
              "      <td>0.005563</td>\n",
              "      <td>1</td>\n",
              "    </tr>\n",
              "    <tr>\n",
              "      <th>8141</th>\n",
              "      <td>2015-02-10 09:30:59</td>\n",
              "      <td>21.10</td>\n",
              "      <td>36.0950</td>\n",
              "      <td>433.0</td>\n",
              "      <td>798.500000</td>\n",
              "      <td>0.005596</td>\n",
              "      <td>1</td>\n",
              "    </tr>\n",
              "    <tr>\n",
              "      <th>8142</th>\n",
              "      <td>2015-02-10 09:32:00</td>\n",
              "      <td>21.10</td>\n",
              "      <td>36.2600</td>\n",
              "      <td>433.0</td>\n",
              "      <td>820.333333</td>\n",
              "      <td>0.005621</td>\n",
              "      <td>1</td>\n",
              "    </tr>\n",
              "    <tr>\n",
              "      <th>8143</th>\n",
              "      <td>2015-02-10 09:33:00</td>\n",
              "      <td>21.10</td>\n",
              "      <td>36.2000</td>\n",
              "      <td>447.0</td>\n",
              "      <td>821.000000</td>\n",
              "      <td>0.005612</td>\n",
              "      <td>1</td>\n",
              "    </tr>\n",
              "  </tbody>\n",
              "</table>\n",
              "<p>8143 rows × 7 columns</p>\n",
              "</div>"
            ],
            "text/plain": [
              "                     date  Temperature  ...  HumidityRatio  Occupancy\n",
              "1     2015-02-04 17:51:00        23.18  ...       0.004793          1\n",
              "2     2015-02-04 17:51:59        23.15  ...       0.004783          1\n",
              "3     2015-02-04 17:53:00        23.15  ...       0.004779          1\n",
              "4     2015-02-04 17:54:00        23.15  ...       0.004772          1\n",
              "5     2015-02-04 17:55:00        23.10  ...       0.004757          1\n",
              "...                   ...          ...  ...            ...        ...\n",
              "8139  2015-02-10 09:29:00        21.05  ...       0.005579          1\n",
              "8140  2015-02-10 09:29:59        21.05  ...       0.005563          1\n",
              "8141  2015-02-10 09:30:59        21.10  ...       0.005596          1\n",
              "8142  2015-02-10 09:32:00        21.10  ...       0.005621          1\n",
              "8143  2015-02-10 09:33:00        21.10  ...       0.005612          1\n",
              "\n",
              "[8143 rows x 7 columns]"
            ]
          },
          "metadata": {
            "tags": []
          },
          "execution_count": 139
        }
      ]
    },
    {
      "cell_type": "code",
      "metadata": {
        "colab": {
          "base_uri": "https://localhost:8080/"
        },
        "id": "_UvOFagCON6z",
        "outputId": "2b0db12a-2484-4094-d7f6-0626373bfe73"
      },
      "source": [
        "df.info()"
      ],
      "execution_count": null,
      "outputs": [
        {
          "output_type": "stream",
          "text": [
            "<class 'pandas.core.frame.DataFrame'>\n",
            "Int64Index: 8143 entries, 1 to 8143\n",
            "Data columns (total 7 columns):\n",
            " #   Column         Non-Null Count  Dtype  \n",
            "---  ------         --------------  -----  \n",
            " 0   date           8143 non-null   object \n",
            " 1   Temperature    8143 non-null   float64\n",
            " 2   Humidity       8143 non-null   float64\n",
            " 3   Light          8143 non-null   float64\n",
            " 4   CO2            8143 non-null   float64\n",
            " 5   HumidityRatio  8143 non-null   float64\n",
            " 6   Occupancy      8143 non-null   int64  \n",
            "dtypes: float64(5), int64(1), object(1)\n",
            "memory usage: 508.9+ KB\n"
          ],
          "name": "stdout"
        }
      ]
    },
    {
      "cell_type": "code",
      "metadata": {
        "colab": {
          "base_uri": "https://localhost:8080/",
          "height": 327
        },
        "id": "jXYNXe0KSJMz",
        "outputId": "9159958f-9d99-430c-bad3-489f91023ba3"
      },
      "source": [
        "#Plot data\n",
        "X = df['date'].values\n",
        "y = df['Temperature'].values\n",
        "\n",
        "plt.figure(figsize=(20,5))\n",
        "plt.xlabel('Date')\n",
        "plt.ylabel('Open in USD')\n",
        "plt.plot(X, y)\n",
        "plt.show()"
      ],
      "execution_count": null,
      "outputs": [
        {
          "output_type": "display_data",
          "data": {
            "image/png": "[encoded data removed]",
            "text/plain": [
              "<Figure size 1440x360 with 1 Axes>"
            ]
          },
          "metadata": {
            "tags": [],
            "needs_background": "light"
          }
        }
      ]
    },
    {
      "cell_type": "code",
      "metadata": {
        "id": "GLte6GFWj21Q"
      },
      "source": [
        "#Split data train dan tes\n",
        "from sklearn.model_selection import train_test_split\n",
        "X_train, X_test, y_train, y_test = train_test_split(X, y, test_size=0.2)"
      ],
      "execution_count": null,
      "outputs": []
    },
    {
      "cell_type": "code",
      "metadata": {
        "id": "Ep1VslT3XMOY"
      },
      "source": [
        "#Fungsi merubah data menjadi bentuk batch\n",
        "def windowed_dataset(series, window_size, batch_size, shuffle_buffer):\n",
        "    series = tf.expand_dims(series, axis=-1)\n",
        "    ds = tf.data.Dataset.from_tensor_slices(series)\n",
        "    ds = ds.window(window_size + 1, shift=1, drop_remainder=True)\n",
        "    ds = ds.flat_map(lambda w: w.batch(window_size + 1))\n",
        "    ds = ds.shuffle(shuffle_buffer)\n",
        "    ds = ds.map(lambda w: (w[:-1], w[-1:]))\n",
        "    return ds.batch(batch_size).prefetch(1)"
      ],
      "execution_count": null,
      "outputs": []
    },
    {
      "cell_type": "code",
      "metadata": {
        "id": "7Pxzccf9XPYL"
      },
      "source": [
        "train_set = windowed_dataset(y_train,\n",
        "                             window_size=60,\n",
        "                             batch_size=100,\n",
        "                             shuffle_buffer=1000)\n",
        "\n",
        "val_test = windowed_dataset(y_test,\n",
        "                            window_size=60,\n",
        "                            batch_size=100,\n",
        "                            shuffle_buffer=1000)\n",
        "\n",
        "model = tf.keras.models.Sequential([\n",
        "                                    LSTM(64, return_sequences=True),\n",
        "                                    LSTM(64),\n",
        "                                    Dense(32, activation='relu'),\n",
        "                                    Dense(16, activation='relu'),\n",
        "                                    Dense(1)\n",
        "])"
      ],
      "execution_count": null,
      "outputs": []
    },
    {
      "cell_type": "code",
      "metadata": {
        "id": "QwmGCLxamPBE"
      },
      "source": [
        "#Class callback\n",
        "class myCallback(tf.keras.callbacks.Callback):\n",
        "  def on_epoch_end(self, epoch, logs={}):\n",
        "    if((logs.get('mae')<5.0) & (logs.get('val_mae')<5.0)):\n",
        "      print(\"\\nError training dan validasi telah mencapai <5!\")\n",
        "      self.model.stop_training = True\n",
        "callbacks = myCallback()"
      ],
      "execution_count": null,
      "outputs": []
    },
    {
      "cell_type": "code",
      "metadata": {
        "colab": {
          "base_uri": "https://localhost:8080/"
        },
        "id": "iM3Cm4y9XY8N",
        "outputId": "3edd6078-98a6-4d7f-d3f5-892f5c1d3e83"
      },
      "source": [
        "optimizer = tf.keras.optimizers.SGD(lr=1.0000e-04, momentum=0.9)\n",
        "model.compile(loss=tf.keras.losses.Huber(),\n",
        "              optimizer=optimizer,\n",
        "              metrics=[\"mae\"])\n",
        "history = model.fit(train_set,\n",
        "                    epochs=100,\n",
        "                    validation_data=val_test,\n",
        "                    callbacks=[callbacks])"
      ],
      "execution_count": null,
      "outputs": [
        {
          "output_type": "stream",
          "text": [
            "/usr/local/lib/python3.7/dist-packages/tensorflow/python/keras/optimizer_v2/optimizer_v2.py:375: UserWarning: The `lr` argument is deprecated, use `learning_rate` instead.\n",
            "  \"The `lr` argument is deprecated, use `learning_rate` instead.\")\n"
          ],
          "name": "stderr"
        },
        {
          "output_type": "stream",
          "text": [
            "Epoch 1/100\n",
            "65/65 [==============================] - 5s 31ms/step - loss: 19.9052 - mae: 20.4052 - val_loss: 19.7710 - val_mae: 20.2710\n",
            "Epoch 2/100\n",
            "65/65 [==============================] - 1s 21ms/step - loss: 19.5438 - mae: 20.0438 - val_loss: 19.2880 - val_mae: 19.7880\n",
            "Epoch 3/100\n",
            "65/65 [==============================] - 1s 21ms/step - loss: 18.9450 - mae: 19.4450 - val_loss: 18.5384 - val_mae: 19.0384\n",
            "Epoch 4/100\n",
            "65/65 [==============================] - 1s 21ms/step - loss: 17.9152 - mae: 18.4152 - val_loss: 17.0886 - val_mae: 17.5886\n",
            "Epoch 5/100\n",
            "65/65 [==============================] - 1s 21ms/step - loss: 15.6135 - mae: 16.1135 - val_loss: 13.4335 - val_mae: 13.9335\n",
            "Epoch 6/100\n",
            "65/65 [==============================] - 1s 21ms/step - loss: 8.4711 - mae: 8.9672 - val_loss: 0.4767 - val_mae: 0.8569\n",
            "Epoch 7/100\n",
            "65/65 [==============================] - 1s 21ms/step - loss: 0.5365 - mae: 0.9365 - val_loss: 0.4577 - val_mae: 0.8442\n",
            "\n",
            "Error training dan validasi telah mencapai <5!\n"
          ],
          "name": "stdout"
        }
      ]
    },
    {
      "cell_type": "code",
      "metadata": {
        "colab": {
          "base_uri": "https://localhost:8080/",
          "height": 390
        },
        "id": "yf0nmgbLm-17",
        "outputId": "8d7ee2c6-3631-4ff5-bd24-40db7a028e61"
      },
      "source": [
        "#Plot hasil dari error yang dihasilkan\n",
        "plt.figure(figsize=(12,6))\n",
        "\n",
        "plt.plot(history.history['mae'], label='MAE')\n",
        "plt.plot(history.history['val_mae'], label='val_MAE')\n",
        "plt.title('Mean Absolute Error')\n",
        "plt.legend()\n",
        "\n",
        "\n",
        "plt.show()"
      ],
      "execution_count": null,
      "outputs": [
        {
          "output_type": "display_data",
          "data": {
            "image/png": "[encoded data removed]",
            "text/plain": [
              "<Figure size 864x432 with 1 Axes>"
            ]
          },
          "metadata": {
            "tags": [],
            "needs_background": "light"
          }
        }
      ]
    }
  ]
}